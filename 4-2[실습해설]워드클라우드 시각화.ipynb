{
 "cells": [
  {
   "cell_type": "markdown",
   "metadata": {
    "id": "7Y3fA2ohpe7K"
   },
   "source": [
    "# 워드 클라우드 시각화\n",
    "\n",
    "## 1. 데이터 가져오기"
   ]
  },
  {
   "cell_type": "code",
   "execution_count": 1,
   "metadata": {},
   "outputs": [
    {
     "name": "stdout",
     "output_type": "stream",
     "text": [
      "'./datas_4' 폴더를 성공적으로 만들었습니다.\n"
     ]
    }
   ],
   "source": [
    "# 폴더 없으면 만들기\n",
    "import os\n",
    "\n",
    "folder_path = \"./datas_4\"  # 만들고 싶은 폴더 경로\n",
    "\n",
    "if not os.path.exists(folder_path):\n",
    "    os.makedirs(folder_path)\n",
    "    print(f\"'{folder_path}' 폴더를 성공적으로 만들었습니다.\")\n",
    "else:\n",
    "    print(f\"'{folder_path}' 폴더가 이미 존재합니다.\")"
   ]
  },
  {
   "cell_type": "code",
   "execution_count": 2,
   "metadata": {},
   "outputs": [],
   "source": [
    "# proverb.txt 파일 생성\n",
    "contents=\"\"\" 작은 일에 성실한 사람은 큰일에도 성실하고,\n",
    "작은 일에 정직하지 못한 사람은 큰일에도 정직하지 못하다.\n",
    "변함없이 서로 사랑하는 이가 친구이며\n",
    "위급할 때 서로 돕는 이가 형제다.\n",
    "\"\"\"\n",
    "file=open(\"./datas_4/proverb.txt\", 'w') #mode w\n",
    "file.write(contents)\n",
    "file.close()"
   ]
  },
  {
   "cell_type": "code",
   "execution_count": 3,
   "metadata": {
    "colab": {
     "base_uri": "https://localhost:8080/"
    },
    "executionInfo": {
     "elapsed": 19085,
     "status": "ok",
     "timestamp": 1684661867035,
     "user": {
      "displayName": "꾬은주",
      "userId": "05623544279730996499"
     },
     "user_tz": -540
    },
    "id": "Hpj6IP5ZpOY0",
    "outputId": "5e7842d2-5cea-45bf-a42d-dad794aee6ec"
   },
   "outputs": [],
   "source": [
    "# fruits.txt 파일 생성\n",
    "fruits=[\"apple\",\"apple\",\"apple\",\"banana\",\"banana\",\"orange\",\"mango\",\"orange\",\"orange\",\"orange\"]\n",
    "index=len(fruits)\n",
    "file=open(\"./datas_4/fruits.txt\",'a')\n",
    "for i in range(len(fruits)):\n",
    "  if i < (index-1):\n",
    "    file.write(fruits[i]+'\\t')\n",
    "  else:\n",
    "    file.write(fruits[i]+'\\n')\n",
    "file.close()"
   ]
  },
  {
   "cell_type": "markdown",
   "metadata": {},
   "source": [
    "## 지정한 폴더의 파일 모두 읽어오기"
   ]
  },
  {
   "cell_type": "code",
   "execution_count": 4,
   "metadata": {
    "colab": {
     "base_uri": "https://localhost:8080/"
    },
    "executionInfo": {
     "elapsed": 283,
     "status": "ok",
     "timestamp": 1684661914333,
     "user": {
      "displayName": "꾬은주",
      "userId": "05623544279730996499"
     },
     "user_tz": -540
    },
    "id": "hOfS4vGErFsH",
    "outputId": "463faadc-ec09-4a32-cbec-2232f1b6d64b"
   },
   "outputs": [
    {
     "data": {
      "text/plain": [
       "[]"
      ]
     },
     "execution_count": 4,
     "metadata": {},
     "output_type": "execute_result"
    }
   ],
   "source": [
    "import os\n",
    "import glob\n",
    "f1=[]\n",
    "# *.txt : .txt로 끝나는 모든 파일\n",
    "# print(glob.glob('./datas_4/*.txt'))\n",
    "for file in glob.glob('*.txt'):\n",
    "  with open(file, 'r', newline='') as filereader:\n",
    "    for row in filereader:\n",
    "      contents=row.split()\n",
    "      for i in contents:\n",
    "        contents=i.strip('.').strip(',').strip('')\n",
    "        f1.append(contents)\n",
    "f1[:20]"
   ]
  },
  {
   "cell_type": "code",
   "execution_count": 5,
   "metadata": {
    "colab": {
     "base_uri": "https://localhost:8080/"
    },
    "executionInfo": {
     "elapsed": 268,
     "status": "ok",
     "timestamp": 1684661961776,
     "user": {
      "displayName": "꾬은주",
      "userId": "05623544279730996499"
     },
     "user_tz": -540
    },
    "id": "2rMO22mjrO7W",
    "outputId": "a1ec938c-53fb-4f9f-9535-b1a2931f0c53"
   },
   "outputs": [
    {
     "data": {
      "text/plain": [
       "['apple',\n",
       " 'apple',\n",
       " 'apple',\n",
       " 'banana',\n",
       " 'banana',\n",
       " 'orange',\n",
       " 'mango',\n",
       " 'orange',\n",
       " 'orange',\n",
       " 'orange',\n",
       " '작은',\n",
       " '일',\n",
       " '성실한',\n",
       " '사람은',\n",
       " '큰일에도',\n",
       " '성실하고',\n",
       " '작은',\n",
       " '일',\n",
       " '정직하지',\n",
       " '못한',\n",
       " '사람은',\n",
       " '큰일에도',\n",
       " '정직하지',\n",
       " '못',\n",
       " '변함없이',\n",
       " '서로',\n",
       " '사랑하는',\n",
       " '이가',\n",
       " '친구이며',\n",
       " '위급할',\n",
       " '때',\n",
       " '서로',\n",
       " '돕는',\n",
       " '이가',\n",
       " '형제']"
      ]
     },
     "execution_count": 5,
     "metadata": {},
     "output_type": "execute_result"
    }
   ],
   "source": [
    "import os\n",
    "import glob\n",
    "\n",
    "f1=[]\n",
    "for file in glob.glob('./datas_4/*.txt'):\n",
    "  with open(file, 'r', newline='') as filereader:\n",
    "    for row in filereader:\n",
    "      contents=row.split()\n",
    "      for i in contents:\n",
    "        contents=i.strip('.').strip(',').strip('').strip('를').strip('을').strip(\"''\")\n",
    "        contents=contents.strip('합니다').strip('하세요')\n",
    "        contents=contents.strip('에')\n",
    "        f1.append(contents)\n",
    "f1"
   ]
  },
  {
   "cell_type": "markdown",
   "metadata": {
    "id": "iAtEAF6LrZnN"
   },
   "source": [
    "## 2. 단어의 빈도수 구하기"
   ]
  },
  {
   "cell_type": "code",
   "execution_count": 6,
   "metadata": {
    "colab": {
     "base_uri": "https://localhost:8080/"
    },
    "executionInfo": {
     "elapsed": 319,
     "status": "ok",
     "timestamp": 1684661991554,
     "user": {
      "displayName": "꾬은주",
      "userId": "05623544279730996499"
     },
     "user_tz": -540
    },
    "id": "G0GFKEwDrd02",
    "outputId": "35c300ab-36d2-4ea0-ef4b-5ca1bca29b27"
   },
   "outputs": [
    {
     "data": {
      "text/plain": [
       "[('orange', 4),\n",
       " ('apple', 3),\n",
       " ('banana', 2),\n",
       " ('작은', 2),\n",
       " ('일', 2),\n",
       " ('사람은', 2),\n",
       " ('큰일에도', 2),\n",
       " ('정직하지', 2),\n",
       " ('서로', 2),\n",
       " ('이가', 2),\n",
       " ('mango', 1),\n",
       " ('성실한', 1),\n",
       " ('성실하고', 1),\n",
       " ('못한', 1),\n",
       " ('못', 1),\n",
       " ('변함없이', 1),\n",
       " ('사랑하는', 1),\n",
       " ('친구이며', 1),\n",
       " ('위급할', 1),\n",
       " ('때', 1),\n",
       " ('돕는', 1),\n",
       " ('형제', 1)]"
      ]
     },
     "execution_count": 6,
     "metadata": {},
     "output_type": "execute_result"
    }
   ],
   "source": [
    "from collections import Counter\n",
    "f1\n",
    "word_counts=Counter(f1)\n",
    "dict(word_counts)\n",
    "# wc = word_counts.items()\n",
    "# 빈도수를 기준으로 내림차순 정렬\n",
    "wc=sorted(word_counts.items(),key=lambda count:count[1], reverse=True)\n",
    "wc"
   ]
  },
  {
   "cell_type": "code",
   "execution_count": 7,
   "metadata": {
    "executionInfo": {
     "elapsed": 1210,
     "status": "ok",
     "timestamp": 1684662004583,
     "user": {
      "displayName": "꾬은주",
      "userId": "05623544279730996499"
     },
     "user_tz": -540
    },
    "id": "1UrxrjQSrgOb"
   },
   "outputs": [
    {
     "data": {
      "text/html": [
       "<div>\n",
       "<style scoped>\n",
       "    .dataframe tbody tr th:only-of-type {\n",
       "        vertical-align: middle;\n",
       "    }\n",
       "\n",
       "    .dataframe tbody tr th {\n",
       "        vertical-align: top;\n",
       "    }\n",
       "\n",
       "    .dataframe thead th {\n",
       "        text-align: right;\n",
       "    }\n",
       "</style>\n",
       "<table border=\"1\" class=\"dataframe\">\n",
       "  <thead>\n",
       "    <tr style=\"text-align: right;\">\n",
       "      <th></th>\n",
       "      <th>word</th>\n",
       "      <th>freq</th>\n",
       "    </tr>\n",
       "  </thead>\n",
       "  <tbody>\n",
       "    <tr>\n",
       "      <th>0</th>\n",
       "      <td>orange</td>\n",
       "      <td>4</td>\n",
       "    </tr>\n",
       "    <tr>\n",
       "      <th>1</th>\n",
       "      <td>apple</td>\n",
       "      <td>3</td>\n",
       "    </tr>\n",
       "    <tr>\n",
       "      <th>2</th>\n",
       "      <td>banana</td>\n",
       "      <td>2</td>\n",
       "    </tr>\n",
       "    <tr>\n",
       "      <th>3</th>\n",
       "      <td>작은</td>\n",
       "      <td>2</td>\n",
       "    </tr>\n",
       "    <tr>\n",
       "      <th>4</th>\n",
       "      <td>일</td>\n",
       "      <td>2</td>\n",
       "    </tr>\n",
       "  </tbody>\n",
       "</table>\n",
       "</div>"
      ],
      "text/plain": [
       "     word  freq\n",
       "0  orange     4\n",
       "1   apple     3\n",
       "2  banana     2\n",
       "3      작은     2\n",
       "4       일     2"
      ]
     },
     "execution_count": 7,
     "metadata": {},
     "output_type": "execute_result"
    }
   ],
   "source": [
    "import pandas as pd\n",
    "wcdf=pd.DataFrame(wc)\n",
    "wcdf.columns=['word', 'freq']\n",
    "wcdf.head()"
   ]
  },
  {
   "cell_type": "code",
   "execution_count": 8,
   "metadata": {
    "colab": {
     "base_uri": "https://localhost:8080/",
     "height": 238
    },
    "executionInfo": {
     "elapsed": 292,
     "status": "ok",
     "timestamp": 1684662010992,
     "user": {
      "displayName": "꾬은주",
      "userId": "05623544279730996499"
     },
     "user_tz": -540
    },
    "id": "qnjW918priqJ",
    "outputId": "21217399-1c75-4fb4-89b2-67f7dd8e544a"
   },
   "outputs": [
    {
     "data": {
      "text/html": [
       "<div>\n",
       "<style scoped>\n",
       "    .dataframe tbody tr th:only-of-type {\n",
       "        vertical-align: middle;\n",
       "    }\n",
       "\n",
       "    .dataframe tbody tr th {\n",
       "        vertical-align: top;\n",
       "    }\n",
       "\n",
       "    .dataframe thead th {\n",
       "        text-align: right;\n",
       "    }\n",
       "</style>\n",
       "<table border=\"1\" class=\"dataframe\">\n",
       "  <thead>\n",
       "    <tr style=\"text-align: right;\">\n",
       "      <th></th>\n",
       "      <th>freq</th>\n",
       "    </tr>\n",
       "    <tr>\n",
       "      <th>word</th>\n",
       "      <th></th>\n",
       "    </tr>\n",
       "  </thead>\n",
       "  <tbody>\n",
       "    <tr>\n",
       "      <th>orange</th>\n",
       "      <td>4</td>\n",
       "    </tr>\n",
       "    <tr>\n",
       "      <th>apple</th>\n",
       "      <td>3</td>\n",
       "    </tr>\n",
       "    <tr>\n",
       "      <th>banana</th>\n",
       "      <td>2</td>\n",
       "    </tr>\n",
       "    <tr>\n",
       "      <th>작은</th>\n",
       "      <td>2</td>\n",
       "    </tr>\n",
       "    <tr>\n",
       "      <th>일</th>\n",
       "      <td>2</td>\n",
       "    </tr>\n",
       "  </tbody>\n",
       "</table>\n",
       "</div>"
      ],
      "text/plain": [
       "        freq\n",
       "word        \n",
       "orange     4\n",
       "apple      3\n",
       "banana     2\n",
       "작은         2\n",
       "일          2"
      ]
     },
     "execution_count": 8,
     "metadata": {},
     "output_type": "execute_result"
    }
   ],
   "source": [
    "# word 컬럼을 인덱스로\n",
    "wcdf1=wcdf.set_index('word')\n",
    "wcdf1.head()"
   ]
  },
  {
   "cell_type": "markdown",
   "metadata": {
    "id": "s5GCbRdvrlLa"
   },
   "source": [
    "## 3. 워드 클라우드 구현하기"
   ]
  },
  {
   "cell_type": "code",
   "execution_count": 9,
   "metadata": {
    "colab": {
     "base_uri": "https://localhost:8080/"
    },
    "executionInfo": {
     "elapsed": 11933,
     "status": "ok",
     "timestamp": 1684662045448,
     "user": {
      "displayName": "꾬은주",
      "userId": "05623544279730996499"
     },
     "user_tz": -540
    },
    "id": "CLQVtI3sroUQ",
    "outputId": "175c67bf-f92a-47f1-f151-a47f24a81bbe"
   },
   "outputs": [],
   "source": [
    "# 필요한 라이브러리 설치\n",
    "# !pip install wordcloud  # 워드클라우드\n",
    "# !pip install konlpy     # 자연어 처리 라이브러리"
   ]
  },
  {
   "cell_type": "code",
   "execution_count": 10,
   "metadata": {},
   "outputs": [],
   "source": [
    "import pandas as pd\n",
    "import numpy as np\n",
    "import matplotlib.pyplot as plt"
   ]
  },
  {
   "cell_type": "code",
   "execution_count": 11,
   "metadata": {},
   "outputs": [],
   "source": [
    "# 나눔바른고딕 사용\n",
    "fontpath='./fonts/NanumGothic.ttf'"
   ]
  },
  {
   "cell_type": "markdown",
   "metadata": {},
   "source": [
    "## 한글이 제대로 표시되지 않는다면 \n",
    "함께 첨부된 NanumGothic.ttf 파일에서 마우스 오른쪽 단추 [설치] 메뉴를 클릭하여 글꼴을 설치한후 실행합니다."
   ]
  },
  {
   "cell_type": "code",
   "execution_count": 12,
   "metadata": {
    "colab": {
     "base_uri": "https://localhost:8080/",
     "height": 435
    },
    "executionInfo": {
     "elapsed": 9126,
     "status": "ok",
     "timestamp": 1684662073828,
     "user": {
      "displayName": "꾬은주",
      "userId": "05623544279730996499"
     },
     "user_tz": -540
    },
    "id": "_ZNhn7hNrvF-",
    "outputId": "9b145156-9154-408d-806c-ee915e8c6b62"
   },
   "outputs": [
    {
     "ename": "ModuleNotFoundError",
     "evalue": "No module named 'wordcloud'",
     "output_type": "error",
     "traceback": [
      "\u001b[1;31m---------------------------------------------------------------------------\u001b[0m",
      "\u001b[1;31mModuleNotFoundError\u001b[0m                       Traceback (most recent call last)",
      "Cell \u001b[1;32mIn[12], line 2\u001b[0m\n\u001b[0;32m      1\u001b[0m \u001b[38;5;28;01mimport\u001b[39;00m\u001b[38;5;250m \u001b[39m\u001b[38;5;21;01mmatplotlib\u001b[39;00m\u001b[38;5;21;01m.\u001b[39;00m\u001b[38;5;21;01mpyplot\u001b[39;00m\u001b[38;5;250m \u001b[39m\u001b[38;5;28;01mas\u001b[39;00m\u001b[38;5;250m \u001b[39m\u001b[38;5;21;01mplt\u001b[39;00m\n\u001b[1;32m----> 2\u001b[0m \u001b[38;5;28;01mfrom\u001b[39;00m\u001b[38;5;250m \u001b[39m\u001b[38;5;21;01mwordcloud\u001b[39;00m\u001b[38;5;250m \u001b[39m\u001b[38;5;28;01mimport\u001b[39;00m WordCloud\n\u001b[0;32m      4\u001b[0m word_freq\u001b[38;5;241m=\u001b[39mwcdf1[\u001b[38;5;124m'\u001b[39m\u001b[38;5;124mfreq\u001b[39m\u001b[38;5;124m'\u001b[39m]\u001b[38;5;241m.\u001b[39mto_dict()\n\u001b[0;32m      5\u001b[0m wordcloud\u001b[38;5;241m=\u001b[39mWordCloud(font_path\u001b[38;5;241m=\u001b[39m\u001b[38;5;124m'\u001b[39m\u001b[38;5;124m./NanumGothic.ttf\u001b[39m\u001b[38;5;124m'\u001b[39m, \n\u001b[0;32m      6\u001b[0m                     width\u001b[38;5;241m=\u001b[39m\u001b[38;5;241m1000\u001b[39m, \n\u001b[0;32m      7\u001b[0m                     height\u001b[38;5;241m=\u001b[39m\u001b[38;5;241m1000\u001b[39m)\u001b[38;5;241m.\u001b[39mgenerate_from_frequencies(word_freq)\n",
      "\u001b[1;31mModuleNotFoundError\u001b[0m: No module named 'wordcloud'"
     ]
    }
   ],
   "source": [
    "import matplotlib.pyplot as plt\n",
    "from wordcloud import WordCloud\n",
    "\n",
    "word_freq=wcdf1['freq'].to_dict()\n",
    "wordcloud=WordCloud(font_path='./NanumGothic.ttf', \n",
    "                    width=1000, \n",
    "                    height=1000).generate_from_frequencies(word_freq)\n",
    "plt.imshow(wordcloud)\n",
    "plt.show()"
   ]
  },
  {
   "cell_type": "code",
   "execution_count": null,
   "metadata": {
    "colab": {
     "base_uri": "https://localhost:8080/",
     "height": 330
    },
    "executionInfo": {
     "elapsed": 4080,
     "status": "ok",
     "timestamp": 1684662084631,
     "user": {
      "displayName": "꾬은주",
      "userId": "05623544279730996499"
     },
     "user_tz": -540
    },
    "id": "_vIccjlErzJv",
    "outputId": "e35711c0-5cd4-45cf-b2f5-c4609fee765d"
   },
   "outputs": [],
   "source": [
    "wordcloud=WordCloud(font_path='fonts/NanumGothic.ttf', \n",
    "                    background_color='white', \n",
    "                    colormap='autumn').generate_from_frequencies(word_freq)\n",
    "plt.imshow(wordcloud)\n",
    "plt.title('Word Frequency', size=13) # 제목 지정\n",
    "plt.show()"
   ]
  },
  {
   "cell_type": "code",
   "execution_count": null,
   "metadata": {
    "colab": {
     "base_uri": "https://localhost:8080/",
     "height": 465
    },
    "executionInfo": {
     "elapsed": 3519,
     "status": "ok",
     "timestamp": 1684662118694,
     "user": {
      "displayName": "꾬은주",
      "userId": "05623544279730996499"
     },
     "user_tz": -540
    },
    "id": "ewvEh6LYr3CH",
    "outputId": "2d4cc76a-f593-4aea-8227-2ecc78d64106"
   },
   "outputs": [],
   "source": [
    "from PIL import Image\n",
    "import numpy as np\n",
    "# 이미지 파일 읽어오기 및 RGB로 변환\n",
    "im = Image.open('images/heart.png').convert(\"RGBA\")\n",
    "mask_arr = np.array(im)\n",
    "mask_arr=np.array(im) # 픽셀 값 배열 형태 변환\n",
    "wordcloud=WordCloud(font_path='fonts/NanumGothic.ttf', \n",
    "                    background_color='white', \n",
    "                    colormap='autumn',\n",
    "                    width=700,height=700,\n",
    "                    random_state=43,\n",
    "                    mask=mask_arr,prefer_horizontal=True).generate_from_frequencies(word_freq)\n",
    "plt.figure(figsize=(6, 6))\n",
    "plt.imshow(wordcloud)\n",
    "plt.title('Word Frequency', size=13)\n",
    "plt.axis('off')\n",
    "plt.show()"
   ]
  },
  {
   "cell_type": "code",
   "execution_count": null,
   "metadata": {},
   "outputs": [],
   "source": [
    "from PIL import Image\n",
    "# 이미지 형식을 RGBA (Red, Green, Blue, Alpha)로 변환\n",
    "icon = Image.open('./images/heart.png').convert(\"RGBA\")\n",
    "\n",
    "# icon 이미지와 동일한 크기의 새로운 RGB 이미지를 생성하고, 배경색을 흰색으로 설정\n",
    "mask = Image.new(\"RGB\", icon.size, (255,255,255))\n",
    "\n",
    "# 원본 아이콘 이미지를 마스크 이미지에 붙여넣음\n",
    "# icon 이미지가 가진 알파 채널(투명도) 정보가 활용되어,\n",
    "# 투명한 부분은 마스크의 배경색(여기서는 흰색)으로 유지되고,\n",
    "# 불투명한 부분은 아이콘의 색상으로 채워짐\n",
    "mask.paste(icon,icon) \n",
    "mask = np.array(mask)\n",
    "\n",
    "wordcloud=WordCloud(font_path='fonts/NanumGothic.ttf',   # 사용할 글꼴 파일의 경로를 지정\n",
    "                    background_color='white',            # 워드 클라우드의 배경색을 흰색으로 설정\n",
    "                    colormap='autumn',                   # 워드 클라우드에 표시될 단어들의 색상 맵을 'autumn'으로 설정\n",
    "                    width=700,                          \n",
    "                    height=700,\n",
    "                    # random_state=43,                     # 워드 클라우드의 생성 과정에서 무작위성을 제어하기 위한 시드 값을 설정\n",
    "                    mask=mask                            # 워드 클라우드의 모양을 mask 배열에 따라 만듬\n",
    "                   ).generate_from_frequencies(word_freq)\n",
    "fig = plt.figure(figsize=(10,10))\n",
    "plt.imshow(wordcloud, interpolation='bilinear')\n",
    "plt.axis('off')\n",
    "plt.show()"
   ]
  },
  {
   "cell_type": "code",
   "execution_count": null,
   "metadata": {},
   "outputs": [],
   "source": []
  }
 ],
 "metadata": {
  "colab": {
   "authorship_tag": "ABX9TyP5JzU/x1Z9XRkhhvAwCIxI",
   "provenance": []
  },
  "kernelspec": {
   "display_name": "Python 3 (ipykernel)",
   "language": "python",
   "name": "python3"
  },
  "language_info": {
   "codemirror_mode": {
    "name": "ipython",
    "version": 3
   },
   "file_extension": ".py",
   "mimetype": "text/x-python",
   "name": "python",
   "nbconvert_exporter": "python",
   "pygments_lexer": "ipython3",
   "version": "3.12.9"
  }
 },
 "nbformat": 4,
 "nbformat_minor": 4
}
